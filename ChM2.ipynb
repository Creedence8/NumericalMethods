{
 "cells": [
  {
   "cell_type": "code",
   "execution_count": 1,
   "metadata": {
    "collapsed": false
   },
   "outputs": [
    {
     "name": "stdout",
     "output_type": "stream",
     "text": [
      "значения c и N: 1, 1000\n",
      "Значение I:  4.613611\n"
     ]
    }
   ],
   "source": [
    "from math import *\n",
    "\n",
    "#область определения интеграла\n",
    "a = 0\n",
    "b = pi/2\n",
    "#/область определения интеграла\n",
    "\n",
    "c, n = input(u'значения c и N: ')\n",
    "\n",
    "def func(x, c):\n",
    "    return exp(c*sin(x))+sin(exp(c*x)/(x**2+1))\n",
    "\n",
    "margin = a+(b-a)/n\n",
    "b = a + margin\n",
    "res = 0\n",
    "\n",
    "for i in range(n):\n",
    "    res += (b-a)*func((a+b)/2, c)\n",
    "    a = b\n",
    "    b += margin\n",
    "    \n",
    "print 'Значение I: ', round(res, 6)"
   ]
  },
  {
   "cell_type": "code",
   "execution_count": null,
   "metadata": {
    "collapsed": false
   },
   "outputs": [],
   "source": [
    "from math import *\n",
    "\n",
    "#область определения интеграла\n",
    "a, b=input(u\"Значения a и b: \")\n",
    "#/область определения интеграла\n",
    "b=pi/2\n",
    "c, n = input(u'значения c и N: ')\n",
    "\n",
    "def func(x, c):\n",
    "    return exp(c*sin(x))+sin(exp(c*x)/(x**2+1))\n",
    "\n",
    "margin = (b-a)/n\n",
    "b = a + margin\n",
    "res = 0\n",
    "\n",
    "for i in range(n):\n",
    "    res += (b-a)*((func(a, c)+func(b, c))/2)\n",
    "    a = b\n",
    "    b += margin\n",
    "    \n",
    "print \"Значение I: \", round(res, 6), 456"
   ]
  },
  {
   "cell_type": "code",
   "execution_count": 2,
   "metadata": {
    "collapsed": false
   },
   "outputs": [
    {
     "name": "stdout",
     "output_type": "stream",
     "text": [
      "значения c и N: 1, 10\n",
      "Значение I:  4.613611\n"
     ]
    }
   ],
   "source": [
    "from math import *\n",
    "\n",
    "#область определения интеграла\n",
    "a = 0\n",
    "b = pi/2\n",
    "#/область определения интеграла\n",
    "\n",
    "c, n = input(u'значения c и N: ')\n",
    "\n",
    "def func(x, c):\n",
    "    return exp(c*sin(x))+sin(exp(c*x)/(x**2+1))\n",
    "\n",
    "margin = a+(b-a)/n\n",
    "b = a + margin\n",
    "res = 0\n",
    "\n",
    "for i in range(n):\n",
    "    res += (b-a)*((func(a, c)+func(b, c)+4*func((a+b)/2,c))/6)\n",
    "    a = b\n",
    "    b += margin\n",
    "    \n",
    "print 'Значение I: ', round(res, 6)"
   ]
  }
 ],
 "metadata": {
  "anaconda-cloud": {},
  "kernelspec": {
   "display_name": "Python [Root]",
   "language": "python",
   "name": "Python [Root]"
  },
  "language_info": {
   "codemirror_mode": {
    "name": "ipython",
    "version": 2
   },
   "file_extension": ".py",
   "mimetype": "text/x-python",
   "name": "python",
   "nbconvert_exporter": "python",
   "pygments_lexer": "ipython2",
   "version": "2.7.11"
  }
 },
 "nbformat": 4,
 "nbformat_minor": 0
}
