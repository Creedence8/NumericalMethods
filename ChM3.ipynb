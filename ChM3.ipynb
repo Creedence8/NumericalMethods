{
 "cells": [
  {
   "cell_type": "code",
   "execution_count": 7,
   "metadata": {
    "collapsed": false
   },
   "outputs": [
    {
     "name": "stdout",
     "output_type": "stream",
     "text": [
      "Значения a , N: 3,7\n",
      "Значение I:  0.7104\n"
     ]
    }
   ],
   "source": [
    "from math import *\n",
    "\n",
    "# n=7\n",
    "a, n = input(u'Значения a , N: ')\n",
    "\n",
    "def func(x, a):\n",
    "    return log(x+1)*exp(-a*x)*(x**(-7./5))\n",
    "\n",
    "def func0(x):\n",
    "    return x**(-7./5)\n",
    "\n",
    "x1 = 0.0000000000000001\n",
    "margin = 0.00001\n",
    "x2 = x1 + margin\n",
    "i = 0\n",
    "res = 0\n",
    "\n",
    "while x2<n:\n",
    "    i +=1\n",
    "    if x1>1:\n",
    "        margin = 1\n",
    "    res += (x2-x1)*((func(x1, a)+func(x2, a)+4*func((x1+x2)/2,a))/6)\n",
    "    x1 = x2\n",
    "    x2 += margin\n",
    "print 'Значение I: ', round(res, 4)"
   ]
  }
 ],
 "metadata": {
  "anaconda-cloud": {},
  "kernelspec": {
   "display_name": "Python [Root]",
   "language": "python",
   "name": "Python [Root]"
  },
  "language_info": {
   "codemirror_mode": {
    "name": "ipython",
    "version": 2
   },
   "file_extension": ".py",
   "mimetype": "text/x-python",
   "name": "python",
   "nbconvert_exporter": "python",
   "pygments_lexer": "ipython2",
   "version": "2.7.11"
  }
 },
 "nbformat": 4,
 "nbformat_minor": 0
}
