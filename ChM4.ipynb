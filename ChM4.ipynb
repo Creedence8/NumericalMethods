{
 "cells": [
  {
   "cell_type": "code",
   "execution_count": 33,
   "metadata": {
    "collapsed": false,
    "scrolled": true
   },
   "outputs": [
    {
     "name": "stdout",
     "output_type": "stream",
     "text": [
      "[1, 10, 10, 2]\n"
     ]
    }
   ],
   "source": [
    "#Решение трансцендентного уравнения\n",
    "from math import *\n",
    "import numpy as np\n",
    "\n",
    "i = open('I4.txt', 'r')\n",
    "o = open('O4.txt', 'w')\n",
    "A = []\n",
    "for j in open('I4.txt', 'r'):\n",
    "    A.append(int(j))\n",
    "\n",
    "print A \n",
    "def func(x, a):\n",
    "    return round((1.+a*x)**(-1), 6) != round (log(x), 6)\n",
    "\n",
    "#Границы\n",
    "x1 = 0.0000000000000001\n",
    "x2 = 3\n",
    "\n",
    "x= x1\n",
    "for a in A:\n",
    "    x1 = 0.0000000000000001\n",
    "    x2 = 3\n",
    "\n",
    "    x= x1\n",
    "    while func(x, a):\n",
    "        x = (x1 + x2)/2\n",
    "\n",
    "        if (1.+a*x1)**(-1) > log(x1) and (1.+a*x)**(-1) > log(x):\n",
    "            x1 = x \n",
    "        else:\n",
    "            x2 = x\n",
    "    o.write( str(a) + '  -   ' + str(x) +'\\n')"
   ]
  },
  {
   "cell_type": "code",
   "execution_count": 2,
   "metadata": {
    "collapsed": false
   },
   "outputs": [
    {
     "name": "stdout",
     "output_type": "stream",
     "text": [
      "[1, 10]\n",
      "1.08783245087\n"
     ]
    }
   ],
   "source": [
    "#Решение трансцендентного уравнения\n",
    "from math import *\n",
    "\n",
    "i = open('I4.txt')\n",
    "o = open('O4.txt', 'w')\n",
    "A = []\n",
    "for j in range(2):\n",
    "    A.append(int(i.readline()))\n",
    "\n",
    "print A\n",
    "def func(x, a):\n",
    "    return round((1.+a*x)**(-1), 6) != round (log(x), 6)\n",
    "\n",
    "#Границы\n",
    "x1 = 0.0000000000000001\n",
    "x2 = 3\n",
    "\n",
    "x= x1\n",
    "while func(x, 10):\n",
    "    x = (x1 + x2)/2\n",
    "\n",
    "    if (1.+10*x1)**(-1) > log(x1) and (1.+10*x)**(-1) > log(x):\n",
    "        x1 = x \n",
    "    else:\n",
    "        x2 = x\n",
    "print x"
   ]
  }
 ],
 "metadata": {
  "anaconda-cloud": {},
  "kernelspec": {
   "display_name": "Python [Root]",
   "language": "python",
   "name": "Python [Root]"
  },
  "language_info": {
   "codemirror_mode": {
    "name": "ipython",
    "version": 2
   },
   "file_extension": ".py",
   "mimetype": "text/x-python",
   "name": "python",
   "nbconvert_exporter": "python",
   "pygments_lexer": "ipython2",
   "version": "2.7.11"
  }
 },
 "nbformat": 4,
 "nbformat_minor": 0
}
