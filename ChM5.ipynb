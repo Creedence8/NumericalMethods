{
 "cells": [
  {
   "cell_type": "code",
   "execution_count": 3,
   "metadata": {
    "collapsed": false
   },
   "outputs": [
    {
     "name": "stdout",
     "output_type": "stream",
     "text": [
      "Значение a: 1.5\n",
      "Nmin , Nmax:  77652 , 15853\n"
     ]
    }
   ],
   "source": [
    "#Поиск минимального и максимального элементов одномерного массива\n",
    "\n",
    "from math import *\n",
    "\n",
    "a = input(u'Значение a: ')\n",
    "\n",
    "def func(N , a):\n",
    "    return sin(N**(0.5*1.5)/log(N+a))\n",
    "\n",
    "xmin = func(1 , a)\n",
    "xmax = func(1 , a)\n",
    "\n",
    "for N in xrange(1,100001):\n",
    "    if func(N , a) < xmin:\n",
    "        xmin = func(N , a)\n",
    "        nmin = N\n",
    "    if func(N , a) > xmax:\n",
    "        xmax = func(N , a)\n",
    "        nmax = N\n",
    "print 'Nmin , Nmax: ', nmin,',', nmax"
   ]
  }
 ],
 "metadata": {
  "anaconda-cloud": {},
  "kernelspec": {
   "display_name": "Python [Root]",
   "language": "python",
   "name": "Python [Root]"
  },
  "language_info": {
   "codemirror_mode": {
    "name": "ipython",
    "version": 2
   },
   "file_extension": ".py",
   "mimetype": "text/x-python",
   "name": "python",
   "nbconvert_exporter": "python",
   "pygments_lexer": "ipython2",
   "version": "2.7.11"
  }
 },
 "nbformat": 4,
 "nbformat_minor": 0
}
