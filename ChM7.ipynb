{
 "cells": [
  {
   "cell_type": "code",
   "execution_count": 1,
   "metadata": {
    "collapsed": true
   },
   "outputs": [],
   "source": [
    "def quicksort(myList, start, end):\n",
    "    if start < end:\n",
    "        # partition the list\n",
    "        pivot = partition(myList, start, end)\n",
    "        # sort both halves\n",
    "        quicksort(myList, start, pivot-1)\n",
    "        quicksort(myList, pivot+1, end)\n",
    "    return myList\n",
    "\n",
    "def partition(myList, start, end):\n",
    "    pivot = myList[start]\n",
    "    left = start+1\n",
    "    right = end\n",
    "    done = False\n",
    "    while not done:\n",
    "        while left <= right and myList[left] <= pivot:\n",
    "            left = left + 1\n",
    "        while myList[right] >= pivot and right >=left:\n",
    "            right = right -1\n",
    "        if right < left:\n",
    "            done= True\n",
    "        else:\n",
    "            # swap places\n",
    "            temp=myList[left]\n",
    "            myList[left]=myList[right]\n",
    "            myList[right]=temp\n",
    "    # swap start with myList[right]\n",
    "    temp=myList[start]\n",
    "    myList[start]=myList[right]\n",
    "    myList[right]=temp\n",
    "    return right"
   ]
  },
  {
   "cell_type": "code",
   "execution_count": 4,
   "metadata": {
    "collapsed": false
   },
   "outputs": [
    {
     "name": "stdout",
     "output_type": "stream",
     "text": [
      "Введите N: 20012\n",
      "F[N]:  0.1999207\n"
     ]
    }
   ],
   "source": [
    "#Упорядочение элементов одномерного массива\n",
    "\n",
    "N = input(u'Введите N: ')\n",
    "\n",
    "iy = 5001.\n",
    "mo = 65536\n",
    "mn = 25137\n",
    "mdb = 13849\n",
    "ab = 65536\n",
    "\n",
    "F = []\n",
    "F.append(0)\n",
    "\n",
    "def ran(iy):\n",
    "    ran = iy/ab\n",
    "    return ran\n",
    "\n",
    "for i in xrange(100000):\n",
    "    iy = (mn*iy+mdb) % mo\n",
    "    F.append(ran(iy))\n",
    "    \n",
    "F1 = quicksort(F, 1, 100000)\n",
    "F.sort()\n",
    "\n",
    "print 'F[N]: ', round(F1[N], 7)"
   ]
  }
 ],
 "metadata": {
  "anaconda-cloud": {},
  "kernelspec": {
   "display_name": "Python [Root]",
   "language": "python",
   "name": "Python [Root]"
  },
  "language_info": {
   "codemirror_mode": {
    "name": "ipython",
    "version": 2
   },
   "file_extension": ".py",
   "mimetype": "text/x-python",
   "name": "python",
   "nbconvert_exporter": "python",
   "pygments_lexer": "ipython2",
   "version": "2.7.11"
  }
 },
 "nbformat": 4,
 "nbformat_minor": 0
}
