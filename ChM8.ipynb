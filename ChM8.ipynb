{
 "cells": [
  {
   "cell_type": "code",
   "execution_count": 2,
   "metadata": {
    "collapsed": false
   },
   "outputs": [
    {
     "name": "stdout",
     "output_type": "stream",
     "text": [
      "Значение a: 1\n"
     ]
    },
    {
     "data": {
      "image/png": "[encoded data removed]",
      "text/plain": [
       "<matplotlib.figure.Figure at 0x419d6d8>"
      ]
     },
     "metadata": {},
     "output_type": "display_data"
    },
    {
     "name": "stdout",
     "output_type": "stream",
     "text": [
      "1.85081571768 10.8348308103\n"
     ]
    }
   ],
   "source": [
    "#Решение обыкновенного дифференциального уравнения\n",
    "\n",
    "from math import *\n",
    "from matplotlib import pylab as pl\n",
    "import numpy as np\n",
    "\n",
    "%matplotlib inline\n",
    "\n",
    "a = input(u'Значение a: ')\n",
    "\n",
    "dx = 0.1\n",
    "F = []\n",
    "\n",
    "def dob(x,dx):\n",
    "    z1=cos(x)**2 / cos(x)**3\n",
    "    z2=cos(x+dx)**2 / cos(x+dx)**3\n",
    "    z3=cos(x+2*dx)**2 / cos(x+2*dx)**3\n",
    "    return (z3 - 2*z2 + z1) / dx**2 \n",
    "\n",
    "\n",
    "x = np.arange(0, pi*2 , 0.1)\n",
    "for x in x:\n",
    "    y = round(a*exp(sqrt(abs(cos(x))**3)) + a*exp(-sqrt(abs(cos(x))**3)), 1)\n",
    "zzz=cos(1)**2 / cos(1)**3 \n",
    "l = pi/2 - 0.5\n",
    "zz = [cos(z)**2 / cos(z)**3 for z in np.arange(0,l,0.01)]\n",
    "pl.plot(np.arange(0,l,0.01), zz, color = 'red')\n",
    "pl.show()\n",
    "print zzz, dob(1, 0.0001)"
   ]
  },
  {
   "cell_type": "code",
   "execution_count": 1,
   "metadata": {
    "collapsed": false
   },
   "outputs": [
    {
     "name": "stdout",
     "output_type": "stream",
     "text": [
      "Значение a: 1\n",
      "0.301891001076\n"
     ]
    },
    {
     "data": {
      "image/png": "[encoded data removed]",
      "text/plain": [
       "<matplotlib.figure.Figure at 0x8055e80>"
      ]
     },
     "metadata": {},
     "output_type": "display_data"
    }
   ],
   "source": [
    "from math import *\n",
    "from matplotlib import pylab as pl\n",
    "import numpy as np\n",
    "\n",
    "%matplotlib inline\n",
    "\n",
    "z = input(u'Значение a: ')\n",
    "\n",
    "h = 0.1\n",
    "a = 0\n",
    "b =2*pi\n",
    "n =  int((b-a)/h)\n",
    "y = range(n+1)\n",
    "c = range(n+1)\n",
    "d = range(n+1)\n",
    "y[0] = 1\n",
    "y[n] = 1\n",
    "m1=-(2-((cos(h)**3) * (h**2)))\n",
    "n1=1\n",
    "f1=cos(h)**2\n",
    "c[1]=1/m1\n",
    "d[1]=f1*(h**2)-n1*y[0]\n",
    "\n",
    "for i in range(2,n):\n",
    "    c[i]=1/(-(2-(cos(i*h)**3) * (h**2))-c[i-1])\n",
    "    d[i]=(cos(i*h)**2)*(h**2) - c[i-1]*d[i-1]\n",
    "for i in range(n-1,0,-1):\n",
    "    y[i]=c[i]*(d[i]-y[i+1])\n",
    "\n",
    "res = int(z/h)\n",
    "print y[res]\n",
    "pl.plot(np.arange(a,b,h), y, color = 'red')\n",
    "pl.show()"
   ]
  },
  {
   "cell_type": "code",
   "execution_count": 11,
   "metadata": {
    "collapsed": false,
    "scrolled": false
   },
   "outputs": [
    {
     "name": "stdout",
     "output_type": "stream",
     "text": [
      "Значение a: 1\n",
      "2.3600387\n"
     ]
    }
   ],
   "source": [
    "from math import *\n",
    "from matplotlib import pylab as pl\n",
    "import numpy as np\n",
    "\n",
    "%matplotlib inline\n",
    "\n",
    "z = input(u'Значение a: ')\n",
    "\n",
    "def alpha(x):\n",
    "    return (cos(x))**3\n",
    "\n",
    "def beta(x):\n",
    "    return (cos(x))**2\n",
    "\n",
    "nmax = 4000\n",
    "dx = 2.*pi/nmax\n",
    "ddx = 1./dx**2     \n",
    "d = range(nmax)\n",
    "col_beta = range(nmax)\n",
    "rcol = range(nmax)\n",
    "    \n",
    "for i in range(nmax):\n",
    "    d[i] = -2.*ddx+alpha(np.float64(i)*dx)\n",
    "    col_beta[i]= beta(np.float64(i)*dx)\n",
    "    rcol[i] = 0.\n",
    "    \n",
    "rcol[0]=ddx\n",
    "rcol[nmax-2]=ddx\n",
    "tochka=d[nmax-1]\n",
    "\n",
    "for i in  range(nmax-1):\n",
    "    mnoj=ddx/d[i]\n",
    "    d[i+1]=d[i+1]-mnoj*ddx\n",
    "    rcol[i+1] = rcol[i+1]-mnoj*rcol[i]\n",
    "    col_beta[i+1] = col_beta[i+1]-mnoj*col_beta[i]\n",
    "\n",
    "d[nmax-1] = tochka-mnoj*rcol[nmax-2]\n",
    "\n",
    "for i in range(nmax-3,-1,-1):\n",
    "    mnoj=ddx/d[i+1]\n",
    "    rcol[i]=rcol[i]-rcol[i+1]*mnoj\n",
    "    col_beta[i]=col_beta[i]-col_beta[i+1]*mnoj\n",
    "\n",
    "mnoj=ddx/d[0]\n",
    "d[nmax-1]=d[nmax-1]-mnoj*rcol[0]\n",
    "col_beta[nmax-1]=col_beta[nmax-1]-mnoj*col_beta[0]\n",
    "\n",
    "col_beta[nmax-1]=col_beta[nmax-1]/d[nmax-1]\n",
    "tochka=col_beta[nmax-1]\n",
    "\n",
    "for i in range(nmax-1):\n",
    "    col_beta[i]=(col_beta[i]-rcol[i]*tochka)/d[i]\n",
    "\n",
    "xi = z/dx\n",
    "\n",
    "if xi<1.:\n",
    "    n2=1.\n",
    "    n1=nmax\n",
    "else:\n",
    "    n2=int(ceil(xi))\n",
    "    n1=int(floor(xi))\n",
    "\n",
    "k = (col_beta[n2]-col_beta[n1])/dx\n",
    "b = col_beta[n1]-k*np.float(n1)*dx \n",
    "    \n",
    "print round(k*z+b, 7)\n",
    "\n",
    "p=np.arange(0,2*pi,dx)\n",
    "y = [k*z+b for z in p]\n",
    "#pl.plot(p, y)\n",
    "#pl.show()     "
   ]
  },
  {
   "cell_type": "code",
   "execution_count": 132,
   "metadata": {
    "collapsed": false
   },
   "outputs": [
    {
     "name": "stdout",
     "output_type": "stream",
     "text": [
      "6.66666666667\n",
      "6.66666666667\n",
      "<type 'long'>\n"
     ]
    }
   ],
   "source": [
    "from math import *\n",
    "import numpy as np\n",
    "x =np.longdouble(20./3)\n",
    "print x\n",
    "print 20./3\n",
    "print type(2**64)"
   ]
  },
  {
   "cell_type": "code",
   "execution_count": 138,
   "metadata": {
    "collapsed": false
   },
   "outputs": [
    {
     "name": "stdout",
     "output_type": "stream",
     "text": [
      "6.66666666667\n"
     ]
    }
   ],
   "source": [
    "print 20./3"
   ]
  },
  {
   "cell_type": "code",
   "execution_count": 43,
   "metadata": {
    "collapsed": false
   },
   "outputs": [
    {
     "name": "stdout",
     "output_type": "stream",
     "text": [
      "Значение a: 2\n",
      "Значение f(a):  1.1935363\n"
     ]
    },
    {
     "data": {
      "image/png": "[encoded data removed]",
      "text/plain": [
       "<matplotlib.figure.Figure at 0x7cda2e8>"
      ]
     },
     "metadata": {},
     "output_type": "display_data"
    }
   ],
   "source": [
    "from math import *\n",
    "from matplotlib import pylab as pl\n",
    "import numpy as np\n",
    "\n",
    "%matplotlib inline\n",
    "\n",
    "z = input(u'Значение a: ')\n",
    "\n",
    "def alpha(x):\n",
    "    return (cos(x))**3\n",
    "\n",
    "def beta(x):\n",
    "    return (cos(x))**2\n",
    "\n",
    "N = 4000\n",
    "dx = 2.*pi/N\n",
    "ddx = 1./dx**2     \n",
    "d = range(N)\n",
    "Cbeta = range(N)\n",
    "RC = range(N)\n",
    "    \n",
    "for i in range(N):\n",
    "    d[i] = -2.*ddx+alpha(np.float64(i)*dx)\n",
    "    Cbeta[i]= beta(np.float64(i)*dx)\n",
    "    RC[i] = 0.\n",
    "    \n",
    "RC[0]=ddx\n",
    "RC[N-2]=ddx\n",
    "ref=d[N-1]\n",
    "\n",
    "for i in  range(N-1):\n",
    "    mn=ddx/d[i]\n",
    "    d[i+1]=d[i+1]-mn*ddx\n",
    "    RC[i+1] = RC[i+1]-mn*RC[i]\n",
    "    Cbeta[i+1] = Cbeta[i+1]-mn*Cbeta[i]\n",
    "\n",
    "d[N-1] = ref-mn*RC[N-2]\n",
    "\n",
    "for i in range(N-3,-1,-1):\n",
    "    mn=ddx/d[i+1]\n",
    "    RC[i]=RC[i]-RC[i+1]*mn\n",
    "    Cbeta[i]=Cbeta[i]-Cbeta[i+1]*mn\n",
    "\n",
    "mn=ddx/d[0]\n",
    "d[N-1]=d[N-1]-mn*RC[0]\n",
    "Cbeta[N-1]=Cbeta[N-1]-mn*Cbeta[0]\n",
    "\n",
    "Cbeta[N-1]=Cbeta[N-1]/d[N-1]\n",
    "ref=Cbeta[N-1]\n",
    "\n",
    "for i in range(N-1):\n",
    "    Cbeta[i]=(Cbeta[i]-RC[i]*ref)/d[i]\n",
    "\n",
    "x = z/dx\n",
    "\n",
    "if x == int(x):\n",
    "    print Cbeta(x)\n",
    "else:\n",
    "    if x<1. or x >N-1:\n",
    "        n2=1\n",
    "        n1=int(N-1)\n",
    "    else:\n",
    "        n2=int(ceil(x))\n",
    "        n1=int(floor(x))\n",
    "\n",
    "k = (Cbeta[n2]-Cbeta[n1])/dx\n",
    "b = Cbeta[n1]-k*np.float(n1)*dx \n",
    "    \n",
    "print 'Значение f(a): ', round(k*z+b, 7)\n",
    "\n",
    "j=np.arange(0,2*pi,dx)\n",
    "y = [k*z+b for z in j]\n",
    "p=np.arange(0,N,1)\n",
    "y = [Cbeta[int(z)] for z in p]\n",
    "pl.plot(j, y)\n",
    "pl.show()     "
   ]
  }
 ],
 "metadata": {
  "anaconda-cloud": {},
  "kernelspec": {
   "display_name": "Python [Root]",
   "language": "python",
   "name": "Python [Root]"
  },
  "language_info": {
   "codemirror_mode": {
    "name": "ipython",
    "version": 2
   },
   "file_extension": ".py",
   "mimetype": "text/x-python",
   "name": "python",
   "nbconvert_exporter": "python",
   "pygments_lexer": "ipython2",
   "version": "2.7.11"
  }
 },
 "nbformat": 4,
 "nbformat_minor": 0
}
