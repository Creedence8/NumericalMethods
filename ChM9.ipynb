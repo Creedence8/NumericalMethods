{
 "cells": [
  {
   "cell_type": "code",
   "execution_count": 1,
   "metadata": {
    "collapsed": false
   },
   "outputs": [
    {
     "name": "stdout",
     "output_type": "stream",
     "text": [
      "[(-0.30745312772351596-0.6280990483231866j), (-3.564970128295471-4.567333571419684j), (-1.1275767439810132+2.1954326197428706j)]\n",
      "[(-7.105427357601002e-15+5.329070518200751e-15j), (-2.842170943040401e-14+2.842170943040401e-14j), (3.552713678800501e-15+3.552713678800501e-15j)]\n"
     ]
    }
   ],
   "source": [
    "from math import *\n",
    "\n",
    "beta = 1\n",
    "a = complex(5, 3)\n",
    "b = complex(14, beta)\n",
    "c = complex(6, 8)\n",
    "\n",
    "p = -(a**2)/3 + b\n",
    "q = 2*(a**3)/27-a*b/3+c\n",
    "Q = (p/3)**3 + (q/2)**2\n",
    "A = (-q/2+Q**(1./2))**(1./3)\n",
    "B = -p/(3*A)\n",
    "Y = [A+B, -(A+B)/2+3**(1./2)*(A-B)/2j, -(A+B)/2-3**(1./2)*(A-B)/2j] \n",
    "X = [y - a/3 for y in Y]\n",
    "res = [x**3+a*(x**2)+b*x+c for x in X]\n",
    "print X\n",
    "print res"
   ]
  }
 ],
 "metadata": {
  "anaconda-cloud": {},
  "kernelspec": {
   "display_name": "Python [Root]",
   "language": "python",
   "name": "Python [Root]"
  },
  "language_info": {
   "codemirror_mode": {
    "name": "ipython",
    "version": 2
   },
   "file_extension": ".py",
   "mimetype": "text/x-python",
   "name": "python",
   "nbconvert_exporter": "python",
   "pygments_lexer": "ipython2",
   "version": "2.7.11"
  }
 },
 "nbformat": 4,
 "nbformat_minor": 0
}
